{
  "nbformat": 4,
  "nbformat_minor": 0,
  "metadata": {
    "colab": {
      "provenance": [],
      "authorship_tag": "ABX9TyOubC/ZxpL/sMau3f6rEDGJ",
      "include_colab_link": true
    },
    "kernelspec": {
      "name": "python3",
      "display_name": "Python 3"
    },
    "language_info": {
      "name": "python"
    }
  },
  "cells": [
    {
      "cell_type": "markdown",
      "metadata": {
        "id": "view-in-github",
        "colab_type": "text"
      },
      "source": [
        "<a href=\"https://colab.research.google.com/github/georgywasiat/Time-Series-Prediction-of-BBCA-Stock-Prices-using-Linear-Regression/blob/main/Time_Series_Prediction_of_BBCA_Stock_Prices_using_Linear_Regression.ipynb\" target=\"_parent\"><img src=\"https://colab.research.google.com/assets/colab-badge.svg\" alt=\"Open In Colab\"/></a>"
      ]
    },
    {
      "cell_type": "markdown",
      "source": [
        "Georgy Banny Rizky Wasiat"
      ],
      "metadata": {
        "id": "LUPLfrsrmLe-"
      }
    },
    {
      "cell_type": "markdown",
      "source": [
        "Prediksi Harga Saham BBCA dengan Regresi Linear"
      ],
      "metadata": {
        "id": "u2ZSZpjekHbf"
      }
    },
    {
      "cell_type": "code",
      "execution_count": null,
      "metadata": {
        "id": "pjHD7ZvbgchR"
      },
      "outputs": [],
      "source": [
        "from google.colab import drive\n",
        "import pandas as pd\n",
        "import matplotlib.pyplot as plt\n",
        "from sklearn.model_selection import train_test_split\n",
        "import pandas as pd\n",
        "from sklearn.linear_model import LinearRegression\n",
        "from sklearn.metrics import mean_squared_error"
      ]
    },
    {
      "cell_type": "code",
      "source": [
        "drive.mount('/content/drive')"
      ],
      "metadata": {
        "colab": {
          "base_uri": "https://localhost:8080/"
        },
        "id": "S3Tp_HbFgh1W",
        "outputId": "133db04c-1212-43c9-f379-335e71b7caff"
      },
      "execution_count": null,
      "outputs": [
        {
          "output_type": "stream",
          "name": "stdout",
          "text": [
            "Drive already mounted at /content/drive; to attempt to forcibly remount, call drive.mount(\"/content/drive\", force_remount=True).\n"
          ]
        }
      ]
    },
    {
      "cell_type": "code",
      "source": [
        "BBCA = pd.read_csv('/content/drive/My Drive/Portofolio/BBCA.csv')"
      ],
      "metadata": {
        "id": "rEdpT26GgjFj"
      },
      "execution_count": null,
      "outputs": []
    },
    {
      "cell_type": "code",
      "source": [
        "BBCA.head(10)"
      ],
      "metadata": {
        "colab": {
          "base_uri": "https://localhost:8080/",
          "height": 585
        },
        "id": "uFsN3yQxgwKV",
        "outputId": "f9e75853-5ea8-4ae3-f92e-16a3d06a1169"
      },
      "execution_count": null,
      "outputs": [
        {
          "output_type": "execute_result",
          "data": {
            "text/plain": [
              "                  date  previous  open_price  first_trade     high      low  \\\n",
              "0  2019-07-29T00:00:00   30975.0     31100.0      31100.0  31150.0  30800.0   \n",
              "1  2019-07-30T00:00:00   30950.0     31025.0      31025.0  31250.0  30950.0   \n",
              "2  2019-07-31T00:00:00   31100.0     30950.0      31100.0  31200.0  30900.0   \n",
              "3  2019-08-01T00:00:00   30950.0     30950.0      30950.0  31350.0  30925.0   \n",
              "4  2019-08-02T00:00:00   31050.0     30800.0      30825.0  31025.0  30800.0   \n",
              "5  2019-08-05T00:00:00   30825.0     31075.0      31075.0  31075.0  30000.0   \n",
              "6  2019-08-06T00:00:00   30000.0     29400.0      29400.0  29775.0  28825.0   \n",
              "7  2019-08-07T00:00:00   29400.0     29875.0      29875.0  30250.0  29525.0   \n",
              "8  2019-08-08T00:00:00   30050.0     30050.0      30050.0  30400.0  29900.0   \n",
              "9  2019-08-09T00:00:00   30025.0     30275.0      30275.0  30600.0  30275.0   \n",
              "\n",
              "     close  change      volume         value  ...  bid_volume  listed_shares  \\\n",
              "0  30950.0   -25.0  13701900.0  4.246726e+11  ...   1250400.0   2.440846e+10   \n",
              "1  31100.0   150.0   7645100.0  2.375243e+11  ...      1900.0   2.440846e+10   \n",
              "2  30950.0  -150.0  12825800.0  3.977603e+11  ...   1223000.0   2.440846e+10   \n",
              "3  31050.0   100.0  15645600.0  4.865419e+11  ...     19500.0   2.440846e+10   \n",
              "4  30825.0  -225.0  12597900.0  3.892295e+11  ...   1027000.0   2.440846e+10   \n",
              "5  30000.0  -825.0  18184800.0  5.507566e+11  ...   1267600.0   2.440846e+10   \n",
              "6  29400.0  -600.0  36659200.0  1.076796e+12  ...   1227200.0   2.440846e+10   \n",
              "7  30050.0   650.0  18420400.0  5.526591e+11  ...   2465800.0   2.440846e+10   \n",
              "8  30025.0   -25.0  11659100.0  3.514534e+11  ...   3598700.0   2.440846e+10   \n",
              "9  30325.0   300.0   9623700.0  2.922159e+11  ...   1092400.0   2.440846e+10   \n",
              "\n",
              "   tradeble_shares  weight_for_index  foreign_sell  foreign_buy  \\\n",
              "0     2.440846e+10      2.440846e+10     4199100.0    3782800.0   \n",
              "1     2.440846e+10      2.440846e+10     3859500.0    4278300.0   \n",
              "2     2.440846e+10      2.440846e+10     7957300.0    8680200.0   \n",
              "3     2.440846e+10      2.440846e+10     6683700.0   13290800.0   \n",
              "4     2.440846e+10      2.440846e+10     9195000.0    2639100.0   \n",
              "5     2.440846e+10      2.440846e+10    14047600.0    3717100.0   \n",
              "6     2.440846e+10      2.440846e+10    31806700.0    9755600.0   \n",
              "7     2.440846e+10      2.440846e+10    11587400.0   10458200.0   \n",
              "8     2.440846e+10      2.440846e+10     6717800.0    6910600.0   \n",
              "9     2.440846e+10      2.440846e+10     5402500.0    4252500.0   \n",
              "\n",
              "   delisting_date  non_regular_volume  non_regular_value  \\\n",
              "0             NaN           6607083.0       2.056272e+11   \n",
              "1             NaN           8274494.0       2.570538e+11   \n",
              "2             NaN          10022093.0       3.113416e+11   \n",
              "3             NaN           7091288.0       2.210745e+11   \n",
              "4             NaN           2103060.0       6.523255e+10   \n",
              "5             NaN           3710723.0       1.150434e+11   \n",
              "6             NaN               269.0       7.857050e+06   \n",
              "7             NaN            477829.0       1.415842e+10   \n",
              "8             NaN            512198.0       1.538736e+10   \n",
              "9             NaN           1704527.0       5.197366e+10   \n",
              "\n",
              "   non_regular_frequency  \n",
              "0                   39.0  \n",
              "1                   44.0  \n",
              "2                   57.0  \n",
              "3                   35.0  \n",
              "4                   32.0  \n",
              "5                   35.0  \n",
              "6                    6.0  \n",
              "7                   34.0  \n",
              "8                   64.0  \n",
              "9                   29.0  \n",
              "\n",
              "[10 rows x 25 columns]"
            ],
            "text/html": [
              "\n",
              "  <div id=\"df-640947fd-486a-46eb-a984-3f287c6c771b\" class=\"colab-df-container\">\n",
              "    <div>\n",
              "<style scoped>\n",
              "    .dataframe tbody tr th:only-of-type {\n",
              "        vertical-align: middle;\n",
              "    }\n",
              "\n",
              "    .dataframe tbody tr th {\n",
              "        vertical-align: top;\n",
              "    }\n",
              "\n",
              "    .dataframe thead th {\n",
              "        text-align: right;\n",
              "    }\n",
              "</style>\n",
              "<table border=\"1\" class=\"dataframe\">\n",
              "  <thead>\n",
              "    <tr style=\"text-align: right;\">\n",
              "      <th></th>\n",
              "      <th>date</th>\n",
              "      <th>previous</th>\n",
              "      <th>open_price</th>\n",
              "      <th>first_trade</th>\n",
              "      <th>high</th>\n",
              "      <th>low</th>\n",
              "      <th>close</th>\n",
              "      <th>change</th>\n",
              "      <th>volume</th>\n",
              "      <th>value</th>\n",
              "      <th>...</th>\n",
              "      <th>bid_volume</th>\n",
              "      <th>listed_shares</th>\n",
              "      <th>tradeble_shares</th>\n",
              "      <th>weight_for_index</th>\n",
              "      <th>foreign_sell</th>\n",
              "      <th>foreign_buy</th>\n",
              "      <th>delisting_date</th>\n",
              "      <th>non_regular_volume</th>\n",
              "      <th>non_regular_value</th>\n",
              "      <th>non_regular_frequency</th>\n",
              "    </tr>\n",
              "  </thead>\n",
              "  <tbody>\n",
              "    <tr>\n",
              "      <th>0</th>\n",
              "      <td>2019-07-29T00:00:00</td>\n",
              "      <td>30975.0</td>\n",
              "      <td>31100.0</td>\n",
              "      <td>31100.0</td>\n",
              "      <td>31150.0</td>\n",
              "      <td>30800.0</td>\n",
              "      <td>30950.0</td>\n",
              "      <td>-25.0</td>\n",
              "      <td>13701900.0</td>\n",
              "      <td>4.246726e+11</td>\n",
              "      <td>...</td>\n",
              "      <td>1250400.0</td>\n",
              "      <td>2.440846e+10</td>\n",
              "      <td>2.440846e+10</td>\n",
              "      <td>2.440846e+10</td>\n",
              "      <td>4199100.0</td>\n",
              "      <td>3782800.0</td>\n",
              "      <td>NaN</td>\n",
              "      <td>6607083.0</td>\n",
              "      <td>2.056272e+11</td>\n",
              "      <td>39.0</td>\n",
              "    </tr>\n",
              "    <tr>\n",
              "      <th>1</th>\n",
              "      <td>2019-07-30T00:00:00</td>\n",
              "      <td>30950.0</td>\n",
              "      <td>31025.0</td>\n",
              "      <td>31025.0</td>\n",
              "      <td>31250.0</td>\n",
              "      <td>30950.0</td>\n",
              "      <td>31100.0</td>\n",
              "      <td>150.0</td>\n",
              "      <td>7645100.0</td>\n",
              "      <td>2.375243e+11</td>\n",
              "      <td>...</td>\n",
              "      <td>1900.0</td>\n",
              "      <td>2.440846e+10</td>\n",
              "      <td>2.440846e+10</td>\n",
              "      <td>2.440846e+10</td>\n",
              "      <td>3859500.0</td>\n",
              "      <td>4278300.0</td>\n",
              "      <td>NaN</td>\n",
              "      <td>8274494.0</td>\n",
              "      <td>2.570538e+11</td>\n",
              "      <td>44.0</td>\n",
              "    </tr>\n",
              "    <tr>\n",
              "      <th>2</th>\n",
              "      <td>2019-07-31T00:00:00</td>\n",
              "      <td>31100.0</td>\n",
              "      <td>30950.0</td>\n",
              "      <td>31100.0</td>\n",
              "      <td>31200.0</td>\n",
              "      <td>30900.0</td>\n",
              "      <td>30950.0</td>\n",
              "      <td>-150.0</td>\n",
              "      <td>12825800.0</td>\n",
              "      <td>3.977603e+11</td>\n",
              "      <td>...</td>\n",
              "      <td>1223000.0</td>\n",
              "      <td>2.440846e+10</td>\n",
              "      <td>2.440846e+10</td>\n",
              "      <td>2.440846e+10</td>\n",
              "      <td>7957300.0</td>\n",
              "      <td>8680200.0</td>\n",
              "      <td>NaN</td>\n",
              "      <td>10022093.0</td>\n",
              "      <td>3.113416e+11</td>\n",
              "      <td>57.0</td>\n",
              "    </tr>\n",
              "    <tr>\n",
              "      <th>3</th>\n",
              "      <td>2019-08-01T00:00:00</td>\n",
              "      <td>30950.0</td>\n",
              "      <td>30950.0</td>\n",
              "      <td>30950.0</td>\n",
              "      <td>31350.0</td>\n",
              "      <td>30925.0</td>\n",
              "      <td>31050.0</td>\n",
              "      <td>100.0</td>\n",
              "      <td>15645600.0</td>\n",
              "      <td>4.865419e+11</td>\n",
              "      <td>...</td>\n",
              "      <td>19500.0</td>\n",
              "      <td>2.440846e+10</td>\n",
              "      <td>2.440846e+10</td>\n",
              "      <td>2.440846e+10</td>\n",
              "      <td>6683700.0</td>\n",
              "      <td>13290800.0</td>\n",
              "      <td>NaN</td>\n",
              "      <td>7091288.0</td>\n",
              "      <td>2.210745e+11</td>\n",
              "      <td>35.0</td>\n",
              "    </tr>\n",
              "    <tr>\n",
              "      <th>4</th>\n",
              "      <td>2019-08-02T00:00:00</td>\n",
              "      <td>31050.0</td>\n",
              "      <td>30800.0</td>\n",
              "      <td>30825.0</td>\n",
              "      <td>31025.0</td>\n",
              "      <td>30800.0</td>\n",
              "      <td>30825.0</td>\n",
              "      <td>-225.0</td>\n",
              "      <td>12597900.0</td>\n",
              "      <td>3.892295e+11</td>\n",
              "      <td>...</td>\n",
              "      <td>1027000.0</td>\n",
              "      <td>2.440846e+10</td>\n",
              "      <td>2.440846e+10</td>\n",
              "      <td>2.440846e+10</td>\n",
              "      <td>9195000.0</td>\n",
              "      <td>2639100.0</td>\n",
              "      <td>NaN</td>\n",
              "      <td>2103060.0</td>\n",
              "      <td>6.523255e+10</td>\n",
              "      <td>32.0</td>\n",
              "    </tr>\n",
              "    <tr>\n",
              "      <th>5</th>\n",
              "      <td>2019-08-05T00:00:00</td>\n",
              "      <td>30825.0</td>\n",
              "      <td>31075.0</td>\n",
              "      <td>31075.0</td>\n",
              "      <td>31075.0</td>\n",
              "      <td>30000.0</td>\n",
              "      <td>30000.0</td>\n",
              "      <td>-825.0</td>\n",
              "      <td>18184800.0</td>\n",
              "      <td>5.507566e+11</td>\n",
              "      <td>...</td>\n",
              "      <td>1267600.0</td>\n",
              "      <td>2.440846e+10</td>\n",
              "      <td>2.440846e+10</td>\n",
              "      <td>2.440846e+10</td>\n",
              "      <td>14047600.0</td>\n",
              "      <td>3717100.0</td>\n",
              "      <td>NaN</td>\n",
              "      <td>3710723.0</td>\n",
              "      <td>1.150434e+11</td>\n",
              "      <td>35.0</td>\n",
              "    </tr>\n",
              "    <tr>\n",
              "      <th>6</th>\n",
              "      <td>2019-08-06T00:00:00</td>\n",
              "      <td>30000.0</td>\n",
              "      <td>29400.0</td>\n",
              "      <td>29400.0</td>\n",
              "      <td>29775.0</td>\n",
              "      <td>28825.0</td>\n",
              "      <td>29400.0</td>\n",
              "      <td>-600.0</td>\n",
              "      <td>36659200.0</td>\n",
              "      <td>1.076796e+12</td>\n",
              "      <td>...</td>\n",
              "      <td>1227200.0</td>\n",
              "      <td>2.440846e+10</td>\n",
              "      <td>2.440846e+10</td>\n",
              "      <td>2.440846e+10</td>\n",
              "      <td>31806700.0</td>\n",
              "      <td>9755600.0</td>\n",
              "      <td>NaN</td>\n",
              "      <td>269.0</td>\n",
              "      <td>7.857050e+06</td>\n",
              "      <td>6.0</td>\n",
              "    </tr>\n",
              "    <tr>\n",
              "      <th>7</th>\n",
              "      <td>2019-08-07T00:00:00</td>\n",
              "      <td>29400.0</td>\n",
              "      <td>29875.0</td>\n",
              "      <td>29875.0</td>\n",
              "      <td>30250.0</td>\n",
              "      <td>29525.0</td>\n",
              "      <td>30050.0</td>\n",
              "      <td>650.0</td>\n",
              "      <td>18420400.0</td>\n",
              "      <td>5.526591e+11</td>\n",
              "      <td>...</td>\n",
              "      <td>2465800.0</td>\n",
              "      <td>2.440846e+10</td>\n",
              "      <td>2.440846e+10</td>\n",
              "      <td>2.440846e+10</td>\n",
              "      <td>11587400.0</td>\n",
              "      <td>10458200.0</td>\n",
              "      <td>NaN</td>\n",
              "      <td>477829.0</td>\n",
              "      <td>1.415842e+10</td>\n",
              "      <td>34.0</td>\n",
              "    </tr>\n",
              "    <tr>\n",
              "      <th>8</th>\n",
              "      <td>2019-08-08T00:00:00</td>\n",
              "      <td>30050.0</td>\n",
              "      <td>30050.0</td>\n",
              "      <td>30050.0</td>\n",
              "      <td>30400.0</td>\n",
              "      <td>29900.0</td>\n",
              "      <td>30025.0</td>\n",
              "      <td>-25.0</td>\n",
              "      <td>11659100.0</td>\n",
              "      <td>3.514534e+11</td>\n",
              "      <td>...</td>\n",
              "      <td>3598700.0</td>\n",
              "      <td>2.440846e+10</td>\n",
              "      <td>2.440846e+10</td>\n",
              "      <td>2.440846e+10</td>\n",
              "      <td>6717800.0</td>\n",
              "      <td>6910600.0</td>\n",
              "      <td>NaN</td>\n",
              "      <td>512198.0</td>\n",
              "      <td>1.538736e+10</td>\n",
              "      <td>64.0</td>\n",
              "    </tr>\n",
              "    <tr>\n",
              "      <th>9</th>\n",
              "      <td>2019-08-09T00:00:00</td>\n",
              "      <td>30025.0</td>\n",
              "      <td>30275.0</td>\n",
              "      <td>30275.0</td>\n",
              "      <td>30600.0</td>\n",
              "      <td>30275.0</td>\n",
              "      <td>30325.0</td>\n",
              "      <td>300.0</td>\n",
              "      <td>9623700.0</td>\n",
              "      <td>2.922159e+11</td>\n",
              "      <td>...</td>\n",
              "      <td>1092400.0</td>\n",
              "      <td>2.440846e+10</td>\n",
              "      <td>2.440846e+10</td>\n",
              "      <td>2.440846e+10</td>\n",
              "      <td>5402500.0</td>\n",
              "      <td>4252500.0</td>\n",
              "      <td>NaN</td>\n",
              "      <td>1704527.0</td>\n",
              "      <td>5.197366e+10</td>\n",
              "      <td>29.0</td>\n",
              "    </tr>\n",
              "  </tbody>\n",
              "</table>\n",
              "<p>10 rows × 25 columns</p>\n",
              "</div>\n",
              "    <div class=\"colab-df-buttons\">\n",
              "\n",
              "  <div class=\"colab-df-container\">\n",
              "    <button class=\"colab-df-convert\" onclick=\"convertToInteractive('df-640947fd-486a-46eb-a984-3f287c6c771b')\"\n",
              "            title=\"Convert this dataframe to an interactive table.\"\n",
              "            style=\"display:none;\">\n",
              "\n",
              "  <svg xmlns=\"http://www.w3.org/2000/svg\" height=\"24px\" viewBox=\"0 -960 960 960\">\n",
              "    <path d=\"M120-120v-720h720v720H120Zm60-500h600v-160H180v160Zm220 220h160v-160H400v160Zm0 220h160v-160H400v160ZM180-400h160v-160H180v160Zm440 0h160v-160H620v160ZM180-180h160v-160H180v160Zm440 0h160v-160H620v160Z\"/>\n",
              "  </svg>\n",
              "    </button>\n",
              "\n",
              "  <style>\n",
              "    .colab-df-container {\n",
              "      display:flex;\n",
              "      gap: 12px;\n",
              "    }\n",
              "\n",
              "    .colab-df-convert {\n",
              "      background-color: #E8F0FE;\n",
              "      border: none;\n",
              "      border-radius: 50%;\n",
              "      cursor: pointer;\n",
              "      display: none;\n",
              "      fill: #1967D2;\n",
              "      height: 32px;\n",
              "      padding: 0 0 0 0;\n",
              "      width: 32px;\n",
              "    }\n",
              "\n",
              "    .colab-df-convert:hover {\n",
              "      background-color: #E2EBFA;\n",
              "      box-shadow: 0px 1px 2px rgba(60, 64, 67, 0.3), 0px 1px 3px 1px rgba(60, 64, 67, 0.15);\n",
              "      fill: #174EA6;\n",
              "    }\n",
              "\n",
              "    .colab-df-buttons div {\n",
              "      margin-bottom: 4px;\n",
              "    }\n",
              "\n",
              "    [theme=dark] .colab-df-convert {\n",
              "      background-color: #3B4455;\n",
              "      fill: #D2E3FC;\n",
              "    }\n",
              "\n",
              "    [theme=dark] .colab-df-convert:hover {\n",
              "      background-color: #434B5C;\n",
              "      box-shadow: 0px 1px 3px 1px rgba(0, 0, 0, 0.15);\n",
              "      filter: drop-shadow(0px 1px 2px rgba(0, 0, 0, 0.3));\n",
              "      fill: #FFFFFF;\n",
              "    }\n",
              "  </style>\n",
              "\n",
              "    <script>\n",
              "      const buttonEl =\n",
              "        document.querySelector('#df-640947fd-486a-46eb-a984-3f287c6c771b button.colab-df-convert');\n",
              "      buttonEl.style.display =\n",
              "        google.colab.kernel.accessAllowed ? 'block' : 'none';\n",
              "\n",
              "      async function convertToInteractive(key) {\n",
              "        const element = document.querySelector('#df-640947fd-486a-46eb-a984-3f287c6c771b');\n",
              "        const dataTable =\n",
              "          await google.colab.kernel.invokeFunction('convertToInteractive',\n",
              "                                                    [key], {});\n",
              "        if (!dataTable) return;\n",
              "\n",
              "        const docLinkHtml = 'Like what you see? Visit the ' +\n",
              "          '<a target=\"_blank\" href=https://colab.research.google.com/notebooks/data_table.ipynb>data table notebook</a>'\n",
              "          + ' to learn more about interactive tables.';\n",
              "        element.innerHTML = '';\n",
              "        dataTable['output_type'] = 'display_data';\n",
              "        await google.colab.output.renderOutput(dataTable, element);\n",
              "        const docLink = document.createElement('div');\n",
              "        docLink.innerHTML = docLinkHtml;\n",
              "        element.appendChild(docLink);\n",
              "      }\n",
              "    </script>\n",
              "  </div>\n",
              "\n",
              "\n",
              "<div id=\"df-d079406c-1896-4a22-813c-a19e47eecee9\">\n",
              "  <button class=\"colab-df-quickchart\" onclick=\"quickchart('df-d079406c-1896-4a22-813c-a19e47eecee9')\"\n",
              "            title=\"Suggest charts\"\n",
              "            style=\"display:none;\">\n",
              "\n",
              "<svg xmlns=\"http://www.w3.org/2000/svg\" height=\"24px\"viewBox=\"0 0 24 24\"\n",
              "     width=\"24px\">\n",
              "    <g>\n",
              "        <path d=\"M19 3H5c-1.1 0-2 .9-2 2v14c0 1.1.9 2 2 2h14c1.1 0 2-.9 2-2V5c0-1.1-.9-2-2-2zM9 17H7v-7h2v7zm4 0h-2V7h2v10zm4 0h-2v-4h2v4z\"/>\n",
              "    </g>\n",
              "</svg>\n",
              "  </button>\n",
              "\n",
              "<style>\n",
              "  .colab-df-quickchart {\n",
              "      --bg-color: #E8F0FE;\n",
              "      --fill-color: #1967D2;\n",
              "      --hover-bg-color: #E2EBFA;\n",
              "      --hover-fill-color: #174EA6;\n",
              "      --disabled-fill-color: #AAA;\n",
              "      --disabled-bg-color: #DDD;\n",
              "  }\n",
              "\n",
              "  [theme=dark] .colab-df-quickchart {\n",
              "      --bg-color: #3B4455;\n",
              "      --fill-color: #D2E3FC;\n",
              "      --hover-bg-color: #434B5C;\n",
              "      --hover-fill-color: #FFFFFF;\n",
              "      --disabled-bg-color: #3B4455;\n",
              "      --disabled-fill-color: #666;\n",
              "  }\n",
              "\n",
              "  .colab-df-quickchart {\n",
              "    background-color: var(--bg-color);\n",
              "    border: none;\n",
              "    border-radius: 50%;\n",
              "    cursor: pointer;\n",
              "    display: none;\n",
              "    fill: var(--fill-color);\n",
              "    height: 32px;\n",
              "    padding: 0;\n",
              "    width: 32px;\n",
              "  }\n",
              "\n",
              "  .colab-df-quickchart:hover {\n",
              "    background-color: var(--hover-bg-color);\n",
              "    box-shadow: 0 1px 2px rgba(60, 64, 67, 0.3), 0 1px 3px 1px rgba(60, 64, 67, 0.15);\n",
              "    fill: var(--button-hover-fill-color);\n",
              "  }\n",
              "\n",
              "  .colab-df-quickchart-complete:disabled,\n",
              "  .colab-df-quickchart-complete:disabled:hover {\n",
              "    background-color: var(--disabled-bg-color);\n",
              "    fill: var(--disabled-fill-color);\n",
              "    box-shadow: none;\n",
              "  }\n",
              "\n",
              "  .colab-df-spinner {\n",
              "    border: 2px solid var(--fill-color);\n",
              "    border-color: transparent;\n",
              "    border-bottom-color: var(--fill-color);\n",
              "    animation:\n",
              "      spin 1s steps(1) infinite;\n",
              "  }\n",
              "\n",
              "  @keyframes spin {\n",
              "    0% {\n",
              "      border-color: transparent;\n",
              "      border-bottom-color: var(--fill-color);\n",
              "      border-left-color: var(--fill-color);\n",
              "    }\n",
              "    20% {\n",
              "      border-color: transparent;\n",
              "      border-left-color: var(--fill-color);\n",
              "      border-top-color: var(--fill-color);\n",
              "    }\n",
              "    30% {\n",
              "      border-color: transparent;\n",
              "      border-left-color: var(--fill-color);\n",
              "      border-top-color: var(--fill-color);\n",
              "      border-right-color: var(--fill-color);\n",
              "    }\n",
              "    40% {\n",
              "      border-color: transparent;\n",
              "      border-right-color: var(--fill-color);\n",
              "      border-top-color: var(--fill-color);\n",
              "    }\n",
              "    60% {\n",
              "      border-color: transparent;\n",
              "      border-right-color: var(--fill-color);\n",
              "    }\n",
              "    80% {\n",
              "      border-color: transparent;\n",
              "      border-right-color: var(--fill-color);\n",
              "      border-bottom-color: var(--fill-color);\n",
              "    }\n",
              "    90% {\n",
              "      border-color: transparent;\n",
              "      border-bottom-color: var(--fill-color);\n",
              "    }\n",
              "  }\n",
              "</style>\n",
              "\n",
              "  <script>\n",
              "    async function quickchart(key) {\n",
              "      const quickchartButtonEl =\n",
              "        document.querySelector('#' + key + ' button');\n",
              "      quickchartButtonEl.disabled = true;  // To prevent multiple clicks.\n",
              "      quickchartButtonEl.classList.add('colab-df-spinner');\n",
              "      try {\n",
              "        const charts = await google.colab.kernel.invokeFunction(\n",
              "            'suggestCharts', [key], {});\n",
              "      } catch (error) {\n",
              "        console.error('Error during call to suggestCharts:', error);\n",
              "      }\n",
              "      quickchartButtonEl.classList.remove('colab-df-spinner');\n",
              "      quickchartButtonEl.classList.add('colab-df-quickchart-complete');\n",
              "    }\n",
              "    (() => {\n",
              "      let quickchartButtonEl =\n",
              "        document.querySelector('#df-d079406c-1896-4a22-813c-a19e47eecee9 button');\n",
              "      quickchartButtonEl.style.display =\n",
              "        google.colab.kernel.accessAllowed ? 'block' : 'none';\n",
              "    })();\n",
              "  </script>\n",
              "</div>\n",
              "    </div>\n",
              "  </div>\n"
            ]
          },
          "metadata": {},
          "execution_count": 281
        }
      ]
    },
    {
      "cell_type": "code",
      "source": [
        "BBCA.info()"
      ],
      "metadata": {
        "colab": {
          "base_uri": "https://localhost:8080/"
        },
        "id": "TuZT4jGgg2Zp",
        "outputId": "302473c1-f2cf-4dee-d0a1-b229a7b24ed2"
      },
      "execution_count": null,
      "outputs": [
        {
          "output_type": "stream",
          "name": "stdout",
          "text": [
            "<class 'pandas.core.frame.DataFrame'>\n",
            "RangeIndex: 1070 entries, 0 to 1069\n",
            "Data columns (total 25 columns):\n",
            " #   Column                 Non-Null Count  Dtype  \n",
            "---  ------                 --------------  -----  \n",
            " 0   date                   1070 non-null   object \n",
            " 1   previous               1070 non-null   float64\n",
            " 2   open_price             1070 non-null   float64\n",
            " 3   first_trade            1070 non-null   float64\n",
            " 4   high                   1070 non-null   float64\n",
            " 5   low                    1070 non-null   float64\n",
            " 6   close                  1070 non-null   float64\n",
            " 7   change                 1070 non-null   float64\n",
            " 8   volume                 1070 non-null   float64\n",
            " 9   value                  1070 non-null   float64\n",
            " 10  frequency              1070 non-null   float64\n",
            " 11  index_individual       1070 non-null   float64\n",
            " 12  offer                  1070 non-null   float64\n",
            " 13  offer_volume           1070 non-null   float64\n",
            " 14  bid                    1070 non-null   float64\n",
            " 15  bid_volume             1070 non-null   float64\n",
            " 16  listed_shares          1070 non-null   float64\n",
            " 17  tradeble_shares        1070 non-null   float64\n",
            " 18  weight_for_index       1070 non-null   float64\n",
            " 19  foreign_sell           1070 non-null   float64\n",
            " 20  foreign_buy            1070 non-null   float64\n",
            " 21  delisting_date         0 non-null      float64\n",
            " 22  non_regular_volume     1070 non-null   float64\n",
            " 23  non_regular_value      1070 non-null   float64\n",
            " 24  non_regular_frequency  1070 non-null   float64\n",
            "dtypes: float64(24), object(1)\n",
            "memory usage: 209.1+ KB\n"
          ]
        }
      ]
    },
    {
      "cell_type": "code",
      "source": [
        "# Pilih atribut yang digunakan untuk windowing\n",
        "BBCA_new = BBCA_df[[\n",
        "    'date',\n",
        "    'close'\n",
        "]]\n",
        "\n",
        "BBCA_new_df = pd.DataFrame(BBCA_new)\n",
        "\n",
        "# Cetak lima baris pertama dari dataframe yang berisi fitur terpilih\n",
        "print(BBCA_new.head())"
      ],
      "metadata": {
        "colab": {
          "base_uri": "https://localhost:8080/"
        },
        "id": "I37aPvnDibXu",
        "outputId": "1f8970cd-52d6-4fae-93b6-c52652e55d41"
      },
      "execution_count": null,
      "outputs": [
        {
          "output_type": "stream",
          "name": "stdout",
          "text": [
            "                  date    close\n",
            "0  2019-07-29T00:00:00  30950.0\n",
            "1  2019-07-30T00:00:00  31100.0\n",
            "2  2019-07-31T00:00:00  30950.0\n",
            "3  2019-08-01T00:00:00  31050.0\n",
            "4  2019-08-02T00:00:00  30825.0\n"
          ]
        }
      ]
    },
    {
      "cell_type": "code",
      "source": [
        "BBCA_new.isna().sum()"
      ],
      "metadata": {
        "colab": {
          "base_uri": "https://localhost:8080/"
        },
        "id": "4Owy-1uOjfjm",
        "outputId": "d006584f-6676-4b8e-d65f-6443f3d8fbef"
      },
      "execution_count": null,
      "outputs": [
        {
          "output_type": "execute_result",
          "data": {
            "text/plain": [
              "date     0\n",
              "close    0\n",
              "dtype: int64"
            ]
          },
          "metadata": {},
          "execution_count": 284
        }
      ]
    },
    {
      "cell_type": "code",
      "source": [
        "# Ubah kolom 'date' ke tipe data datetime\n",
        "BBCA_new_df['date'] = pd.to_datetime(BBCA_new_df['date'])"
      ],
      "metadata": {
        "id": "GPUP6gGpjkIf"
      },
      "execution_count": null,
      "outputs": []
    },
    {
      "cell_type": "code",
      "source": [
        "date = BBCA_new_df['date']"
      ],
      "metadata": {
        "id": "-Wi5YhETGufd"
      },
      "execution_count": null,
      "outputs": []
    },
    {
      "cell_type": "code",
      "source": [
        "print(BBCA_new.head(100))"
      ],
      "metadata": {
        "colab": {
          "base_uri": "https://localhost:8080/"
        },
        "id": "EnhNXrMvkBQI",
        "outputId": "c8e36d3b-00c3-44d4-c55c-a8e46355129c"
      },
      "execution_count": null,
      "outputs": [
        {
          "output_type": "stream",
          "name": "stdout",
          "text": [
            "         date    close\n",
            "0  2019-07-29  30950.0\n",
            "1  2019-07-30  31100.0\n",
            "2  2019-07-31  30950.0\n",
            "3  2019-08-01  31050.0\n",
            "4  2019-08-02  30825.0\n",
            "..        ...      ...\n",
            "95 2019-12-09  31975.0\n",
            "96 2019-12-10  31825.0\n",
            "97 2019-12-11  31900.0\n",
            "98 2019-12-12  31700.0\n",
            "99 2019-12-13  31800.0\n",
            "\n",
            "[100 rows x 2 columns]\n"
          ]
        }
      ]
    },
    {
      "cell_type": "markdown",
      "source": [
        "Grafik Harga Saham Seiring Waktu"
      ],
      "metadata": {
        "id": "2HhUNOzEsJud"
      }
    },
    {
      "cell_type": "code",
      "source": [
        "plt.figure(figsize=(10, 6))\n",
        "plt.plot(BBCA_new['date'], BBCA_new['close'], marker='o', linestyle='-', color='y')\n",
        "\n",
        "plt.title('Harga Saham BBCA seiring Waktu')\n",
        "plt.xlabel('Tanggal')\n",
        "plt.ylabel('Harga Penutup')\n",
        "\n",
        "plt.xticks(rotation=45)\n",
        "\n",
        "plt.tight_layout()\n",
        "plt.show()"
      ],
      "metadata": {
        "colab": {
          "base_uri": "https://localhost:8080/",
          "height": 601
        },
        "id": "b7OC0eiRrgzN",
        "outputId": "ea2ddbd0-36ad-4fb4-baa8-f7721b17dd86"
      },
      "execution_count": null,
      "outputs": [
        {
          "output_type": "display_data",
          "data": {
            "text/plain": [
              "<Figure size 1000x600 with 1 Axes>"
            ],
            "image/png": "[encoded data removed]"
          },
          "metadata": {}
        }
      ]
    },
    {
      "cell_type": "code",
      "source": [
        "#Membuat fungsi windowing\n",
        "BBCA_new_df = pd.DataFrame(BBCA_new)\n",
        "\n",
        "# Fungsi Windowing\n",
        "def create_windowed_df(df, window_size):\n",
        "    features = []\n",
        "    target = []\n",
        "\n",
        "    for i in range(len(df) - window_size):\n",
        "        window = df['close'].iloc[i:i+window_size].tolist()\n",
        "        target_val = df['close'].iloc[i+window_size]\n",
        "        features.append(window)\n",
        "        target.append(target_val)\n",
        "\n",
        "    columns = [f'X{i+1}' for i in range(window_size)] + ['target']\n",
        "    windowed_df = pd.DataFrame(list(zip(features, target)), columns=['features', 'target'])\n",
        "    windowed_df[['X1', 'X2', 'X3']] = pd.DataFrame(windowed_df['features'].tolist(), index=windowed_df.index)\n",
        "    windowed_df = windowed_df[['X1', 'X2', 'X3', 'target']]\n",
        "\n",
        "    return windowed_df\n",
        "\n",
        "# Membuat Windowing dengan Size = 3\n",
        "window_size = 3\n",
        "result_df = create_windowed_df(BBCA_new_df, window_size)\n",
        "\n",
        "print(result_df)\n",
        "\n",
        "new_data = result_df"
      ],
      "metadata": {
        "colab": {
          "base_uri": "https://localhost:8080/"
        },
        "id": "b1A0dj7dBv-b",
        "outputId": "f3c89898-c40d-47d1-c7cc-023894132972"
      },
      "execution_count": null,
      "outputs": [
        {
          "output_type": "stream",
          "name": "stdout",
          "text": [
            "           X1       X2       X3   target\n",
            "0     30950.0  31100.0  30950.0  31050.0\n",
            "1     31100.0  30950.0  31050.0  30825.0\n",
            "2     30950.0  31050.0  30825.0  30000.0\n",
            "3     31050.0  30825.0  30000.0  29400.0\n",
            "4     30825.0  30000.0  29400.0  30050.0\n",
            "...       ...      ...      ...      ...\n",
            "1062   8875.0   8900.0   8975.0   8950.0\n",
            "1063   8900.0   8975.0   8950.0   8925.0\n",
            "1064   8975.0   8950.0   8925.0   8900.0\n",
            "1065   8950.0   8925.0   8900.0   8800.0\n",
            "1066   8925.0   8900.0   8800.0   8825.0\n",
            "\n",
            "[1067 rows x 4 columns]\n"
          ]
        }
      ]
    },
    {
      "cell_type": "code",
      "source": [
        "date_df = pd.DataFrame(date)\n",
        "date_df = date_df.iloc[:-3]\n",
        "\n",
        "print(date_df)"
      ],
      "metadata": {
        "colab": {
          "base_uri": "https://localhost:8080/"
        },
        "id": "vURgQR-iOPAQ",
        "outputId": "6b9c1244-4674-4f51-b0c4-b7b18cbf41cf"
      },
      "execution_count": null,
      "outputs": [
        {
          "output_type": "stream",
          "name": "stdout",
          "text": [
            "           date\n",
            "0    2019-07-29\n",
            "1    2019-07-30\n",
            "2    2019-07-31\n",
            "3    2019-08-01\n",
            "4    2019-08-02\n",
            "...         ...\n",
            "1062 2023-11-28\n",
            "1063 2023-11-29\n",
            "1064 2023-11-30\n",
            "1065 2023-12-01\n",
            "1066 2023-12-04\n",
            "\n",
            "[1067 rows x 1 columns]\n"
          ]
        }
      ]
    },
    {
      "cell_type": "code",
      "source": [
        "# Menggabungkan DataFrame berdasarkan indeks\n",
        "merged_df = pd.concat([date_df, result_df], axis=1)\n",
        "\n",
        "# Menampilkan DataFrame hasil penggabungan\n",
        "print(merged_df)"
      ],
      "metadata": {
        "colab": {
          "base_uri": "https://localhost:8080/"
        },
        "id": "eX2pVD9NXDIy",
        "outputId": "8e902423-385b-4657-9929-2f8ff2c0baa5"
      },
      "execution_count": null,
      "outputs": [
        {
          "output_type": "stream",
          "name": "stdout",
          "text": [
            "           date       X1       X2       X3   target\n",
            "0    2019-07-29  30950.0  31100.0  30950.0  31050.0\n",
            "1    2019-07-30  31100.0  30950.0  31050.0  30825.0\n",
            "2    2019-07-31  30950.0  31050.0  30825.0  30000.0\n",
            "3    2019-08-01  31050.0  30825.0  30000.0  29400.0\n",
            "4    2019-08-02  30825.0  30000.0  29400.0  30050.0\n",
            "...         ...      ...      ...      ...      ...\n",
            "1062 2023-11-28   8875.0   8900.0   8975.0   8950.0\n",
            "1063 2023-11-29   8900.0   8975.0   8950.0   8925.0\n",
            "1064 2023-11-30   8975.0   8950.0   8925.0   8900.0\n",
            "1065 2023-12-01   8950.0   8925.0   8900.0   8800.0\n",
            "1066 2023-12-04   8925.0   8900.0   8800.0   8825.0\n",
            "\n",
            "[1067 rows x 5 columns]\n"
          ]
        }
      ]
    },
    {
      "cell_type": "code",
      "source": [
        "merged_df.isna().sum()"
      ],
      "metadata": {
        "colab": {
          "base_uri": "https://localhost:8080/"
        },
        "id": "y84A4qZYF-xt",
        "outputId": "f7c1c41b-c023-48c1-f56b-d3d0c3f3cbcb"
      },
      "execution_count": null,
      "outputs": [
        {
          "output_type": "execute_result",
          "data": {
            "text/plain": [
              "date      0\n",
              "X1        0\n",
              "X2        0\n",
              "X3        0\n",
              "target    0\n",
              "dtype: int64"
            ]
          },
          "metadata": {},
          "execution_count": 292
        }
      ]
    },
    {
      "cell_type": "code",
      "source": [
        "merged_df.info()"
      ],
      "metadata": {
        "colab": {
          "base_uri": "https://localhost:8080/"
        },
        "id": "rAtMmgb8Fy9P",
        "outputId": "985ebeb7-b52d-499a-e7d6-393a4a0a7d5b"
      },
      "execution_count": null,
      "outputs": [
        {
          "output_type": "stream",
          "name": "stdout",
          "text": [
            "<class 'pandas.core.frame.DataFrame'>\n",
            "RangeIndex: 1067 entries, 0 to 1066\n",
            "Data columns (total 5 columns):\n",
            " #   Column  Non-Null Count  Dtype         \n",
            "---  ------  --------------  -----         \n",
            " 0   date    1067 non-null   datetime64[ns]\n",
            " 1   X1      1067 non-null   float64       \n",
            " 2   X2      1067 non-null   float64       \n",
            " 3   X3      1067 non-null   float64       \n",
            " 4   target  1067 non-null   float64       \n",
            "dtypes: datetime64[ns](1), float64(4)\n",
            "memory usage: 41.8 KB\n"
          ]
        }
      ]
    },
    {
      "cell_type": "code",
      "source": [
        "# Menggunakan DataFrame yang telah dibuat sebelumnya\n",
        "X = merged_df[['date', 'X1' , 'X2', 'X3']]\n",
        "y = merged_df['target']\n",
        "\n",
        "# Memisahkan data menjadi train set dan test set\n",
        "X_train, X_test, y_train, y_test = train_test_split(X, y, test_size=0.2, random_state=42)\n",
        "\n",
        "X_train_features = X_train.drop(columns=['date'])\n",
        "X_test_features = X_test.drop(columns=['date'])\n",
        "\n",
        "# Menampilkan ukuran dari train set dan test set\n",
        "print(f\"Jumlah data pada train set: {len(X_train)}\")\n",
        "print(f\"Jumlah data pada test set: {len(X_test)}\")"
      ],
      "metadata": {
        "colab": {
          "base_uri": "https://localhost:8080/"
        },
        "id": "WLOn8sLvGQDW",
        "outputId": "053a381f-451c-4438-db81-327d48f3e98a"
      },
      "execution_count": null,
      "outputs": [
        {
          "output_type": "stream",
          "name": "stdout",
          "text": [
            "Jumlah data pada train set: 853\n",
            "Jumlah data pada test set: 214\n"
          ]
        }
      ]
    },
    {
      "cell_type": "code",
      "source": [
        "dates_train = X_train['date']\n",
        "dates_test = X_test['date']\n",
        "dates_test_df = pd.DataFrame(dates_test)\n",
        "dates_train_df = pd.DataFrame(dates_train)\n",
        "X_train_df = pd.DataFrame(X_train)\n",
        "y_train_df = pd.DataFrame(y_train)"
      ],
      "metadata": {
        "id": "MpyFPbiqgHWF"
      },
      "execution_count": null,
      "outputs": []
    },
    {
      "cell_type": "markdown",
      "source": [
        "Evaluasi dengan Regresi Linear"
      ],
      "metadata": {
        "id": "6KqbcqPYJb7o"
      }
    },
    {
      "cell_type": "code",
      "source": [
        "# Membangun model regresi linear\n",
        "linear_model = LinearRegression()\n",
        "\n",
        "# Melatih model dengan data train\n",
        "linear_model.fit(X_train_features, y_train)\n",
        "\n",
        "# Melakukan prediksi pada data test\n",
        "y_pred_linear = linear_model.predict(X_test_features)\n",
        "\n",
        "# Evaluasi model\n",
        "mse_linear = mean_squared_error(y_test, y_pred_linear)\n",
        "print(f'Mean Squared Error pada Data Set (Linear Regression): {mse_linear}')\n"
      ],
      "metadata": {
        "colab": {
          "base_uri": "https://localhost:8080/"
        },
        "id": "kyHfmAjoJOC0",
        "outputId": "3d6b3d43-83d8-42f4-a464-d43798c479e1"
      },
      "execution_count": null,
      "outputs": [
        {
          "output_type": "stream",
          "name": "stdout",
          "text": [
            "Mean Squared Error pada Data Set (Linear Regression): 125767.73964150605\n"
          ]
        }
      ]
    },
    {
      "cell_type": "code",
      "source": [
        "# Menyiapkan DataFrame perbandingan\n",
        "comparison_df = pd.DataFrame({ 'Nilai Aktual': result_comparison_df['Actual'],\n",
        "                              'Nilai Prediksi': y_pred_linear})\n",
        "\n",
        "# Menambahkan kolom perbandingan untuk melihat selisih antara nilai aktual dan nilai prediksi\n",
        "comparison_df['Perbedaan Nilai'] = comparison_df['Nilai Aktual'] - comparison_df['Nilai Prediksi']\n",
        "\n",
        "# Menampilkan DataFrame perbandingan\n",
        "print(comparison_df)\n"
      ],
      "metadata": {
        "colab": {
          "base_uri": "https://localhost:8080/"
        },
        "id": "lo2SUfSVKeow",
        "outputId": "1717024d-11e4-4cdd-cb78-39a12e911801"
      },
      "execution_count": null,
      "outputs": [
        {
          "output_type": "stream",
          "name": "stdout",
          "text": [
            "     Nilai Aktual  Nilai Prediksi  Perbedaan Nilai\n",
            "732        7350.0     7371.779407       -21.779407\n",
            "657        7925.0     7986.787008       -61.787008\n",
            "168       27625.0    27466.713842       158.286158\n",
            "86        31400.0    31219.047101       180.952899\n",
            "411       30825.0    30755.481813        69.518187\n",
            "..            ...             ...              ...\n",
            "963        9175.0     9046.200323       128.799677\n",
            "294       28900.0    28719.198517       180.801483\n",
            "275       29525.0    29213.994165       311.005835\n",
            "903        8750.0     8844.265632       -94.265632\n",
            "941        9100.0     9176.617485       -76.617485\n",
            "\n",
            "[214 rows x 3 columns]\n"
          ]
        }
      ]
    },
    {
      "cell_type": "code",
      "source": [
        "# Menggabungkan DataFrame berdasarkan indeks\n",
        "merged1_df = pd.concat([dates_test_df, comparison_df], axis=1)\n",
        "\n",
        "# Menampilkan DataFrame hasil penggabungan\n",
        "print(merged1_df)"
      ],
      "metadata": {
        "colab": {
          "base_uri": "https://localhost:8080/"
        },
        "id": "4ljqU-uRhiO3",
        "outputId": "5b134b61-d24d-4f9e-9d4b-8642ee860318"
      },
      "execution_count": null,
      "outputs": [
        {
          "output_type": "stream",
          "name": "stdout",
          "text": [
            "          date  Nilai Aktual  Nilai Prediksi  Perbedaan Nilai\n",
            "732 2022-07-26        7350.0     7371.779407       -21.779407\n",
            "657 2022-03-29        7925.0     7986.787008       -61.787008\n",
            "168 2020-03-26       27625.0    27466.713842       158.286158\n",
            "86  2019-11-26       31400.0    31219.047101       180.952899\n",
            "411 2021-03-31       30825.0    30755.481813        69.518187\n",
            "..         ...           ...             ...              ...\n",
            "963 2023-07-07        9175.0     9046.200323       128.799677\n",
            "294 2020-10-05       28900.0    28719.198517       180.801483\n",
            "275 2020-09-08       29525.0    29213.994165       311.005835\n",
            "903 2023-03-28        8750.0     8844.265632       -94.265632\n",
            "941 2023-05-31        9100.0     9176.617485       -76.617485\n",
            "\n",
            "[214 rows x 4 columns]\n"
          ]
        }
      ]
    },
    {
      "cell_type": "code",
      "source": [
        "# Menampilkan seluruh DataFrame perbandingan sebagai string\n",
        "print(merged1_df.to_string(index=False))"
      ],
      "metadata": {
        "colab": {
          "base_uri": "https://localhost:8080/"
        },
        "id": "2krqjX8HKzUZ",
        "outputId": "887fddbf-24ae-41ce-d4b8-86e8b4daba7f"
      },
      "execution_count": null,
      "outputs": [
        {
          "output_type": "stream",
          "name": "stdout",
          "text": [
            "      date  Nilai Aktual  Nilai Prediksi  Perbedaan Nilai\n",
            "2022-07-26        7350.0     7371.779407       -21.779407\n",
            "2022-03-29        7925.0     7986.787008       -61.787008\n",
            "2020-03-26       27625.0    27466.713842       158.286158\n",
            "2019-11-26       31400.0    31219.047101       180.952899\n",
            "2021-03-31       30825.0    30755.481813        69.518187\n",
            "2020-01-02       33700.0    33655.794347        44.205653\n",
            "2020-11-30       32300.0    32183.465277       116.534723\n",
            "2023-09-05        9125.0     9187.869633       -62.869633\n",
            "2021-11-16        7425.0     7444.427406       -19.427406\n",
            "2020-11-24       31925.0    32280.401636      -355.401636\n",
            "2020-10-07       29275.0    28830.078152       444.921848\n",
            "2023-05-10        8775.0     8818.738944       -43.738944\n",
            "2023-11-27        8975.0     8915.765749        59.234251\n",
            "2021-07-29       30725.0    29742.172738       982.827262\n",
            "2023-07-04        9025.0     9090.159955       -65.159955\n",
            "2022-04-25        8125.0     8216.209951       -91.209951\n",
            "2021-04-28       31950.0    31977.598522       -27.598522\n",
            "2020-09-10       29300.0    30131.102574      -831.102574\n",
            "2022-11-03        8750.0     8860.071550      -110.071550\n",
            "2020-07-21       30500.0    30928.841536      -428.841536\n",
            "2021-10-15        7400.0     7522.591079      -122.591079\n",
            "2022-07-13        7150.0     7028.210228       121.789772\n",
            "2021-11-30        7375.0     7502.992842      -127.992842\n",
            "2021-09-20       32900.0    32664.489737       235.510263\n",
            "2022-03-10        8150.0     8083.831223        66.168777\n",
            "2023-09-20        9000.0     9097.340752       -97.340752\n",
            "2021-12-02        7350.0     7373.110331       -23.110331\n",
            "2022-01-27        7800.0     7662.798655       137.201345\n",
            "2022-08-22        8075.0     7963.852525       111.147475\n",
            "2021-11-24        7400.0     7313.362192        86.637808\n",
            "2021-01-19       35400.0    35312.165814        87.834186\n",
            "2021-09-02       32850.0    32831.206250        18.793750\n",
            "2022-07-12        7000.0     7042.720043       -42.720043\n",
            "2022-03-22        7950.0     7943.492837         6.507163\n",
            "2019-11-28       31875.0    31991.187255      -116.187255\n",
            "2022-08-01        7800.0     7647.771598       152.228402\n",
            "2019-09-10       30150.0    30092.574039        57.425961\n",
            "2020-06-15       27925.0    28604.755839      -679.755839\n",
            "2023-06-19        9050.0     9136.063741       -86.063741\n",
            "2021-10-13        7525.0     7688.973394      -163.973394\n",
            "2023-01-25        8700.0     8702.709721        -2.709721\n",
            "2022-01-26        7625.0     7802.471578      -177.471578\n",
            "2020-08-07       31300.0    30780.822523       519.177477\n",
            "2020-03-11       27525.0    28161.439447      -636.439447\n",
            "2022-12-29        8550.0     8568.938903       -18.938903\n",
            "2022-02-10        7875.0     7737.521618       137.478382\n",
            "2021-10-21        7525.0     7551.375434       -26.375434\n",
            "2020-02-13       33475.0    33497.737777       -22.737777\n",
            "2022-07-28        7600.0     7507.564023        92.435977\n",
            "2022-02-23        8050.0     8064.802460       -14.802460\n",
            "2020-04-30       26775.0    26355.264902       419.735098\n",
            "2022-01-03        7475.0     7470.119725         4.880275\n",
            "2021-01-05       35250.0    34724.399322       525.600678\n",
            "2022-05-12        7575.0     7417.035142       157.964858\n",
            "2022-05-24        7575.0     7577.733216        -2.733216\n",
            "2021-07-12       30575.0    29908.011466       666.988534\n",
            "2021-05-17       31900.0    31673.591903       226.408097\n",
            "2023-04-11        9000.0     8942.623361        57.376639\n",
            "2023-07-10        9125.0     9176.117655       -51.117655\n",
            "2021-06-11       31925.0    32248.106927      -323.106927\n",
            "2019-11-04       31425.0    31460.169789       -35.169789\n",
            "2020-07-10       30750.0    30925.583869      -175.583869\n",
            "2019-12-27       34000.0    33379.485368       620.514632\n",
            "2020-09-23       27575.0    27908.190218      -333.190218\n",
            "2022-10-27        8800.0     8814.798404       -14.798404\n",
            "2023-02-02        8850.0     8747.852057       102.147943\n",
            "2020-05-12       23925.0    24648.935251      -723.935251\n",
            "2023-04-03        8750.0     8748.552341         1.447659\n",
            "2019-10-18       31375.0    31406.164123       -31.164123\n",
            "2022-12-19        8575.0     8681.771625      -106.771625\n",
            "2021-11-08        7675.0     7677.904289        -2.904289\n",
            "2022-06-02        7375.0     7489.700552      -114.700552\n",
            "2021-01-07       35800.0    36504.103601      -704.103601\n",
            "2023-09-25        8825.0     8899.994653       -74.994653\n",
            "2019-08-29       30275.0    30009.839185       265.160815\n",
            "2020-10-23       29100.0    28917.849196       182.150804\n",
            "2021-05-11       31725.0    31948.587369      -223.587369\n",
            "2021-07-06       30100.0    30047.466525        52.533475\n",
            "2020-04-09       27425.0    27508.586642       -83.586642\n",
            "2021-07-22       30025.0    29970.351811        54.648189\n",
            "2021-07-15       30050.0    30024.401233        25.598767\n",
            "2023-05-25        9250.0     9170.102150        79.897850\n",
            "2023-08-25        9200.0     9260.000391       -60.000391\n",
            "2021-01-29       34125.0    33949.702242       175.297758\n",
            "2022-10-19        8900.0     8659.415551       240.584449\n",
            "2022-09-09        8500.0     8529.015799       -29.015799\n",
            "2020-01-08       33725.0    33573.390757       151.609243\n",
            "2022-06-21        7475.0     7541.637253       -66.637253\n",
            "2021-12-10        7300.0     7321.969902       -21.969902\n",
            "2022-06-28        7250.0     7276.048705       -26.048705\n",
            "2023-03-01        8400.0     8511.152328      -111.152328\n",
            "2019-10-04       30350.0    30431.185607       -81.185607\n",
            "2021-10-07       36600.0    36233.728484       366.271516\n",
            "2023-07-27        9125.0     9140.004282       -15.004282\n",
            "2023-10-05        8925.0     9063.950394      -138.950394\n",
            "2019-11-12       31375.0    31297.824004        77.175996\n",
            "2019-08-12       30000.0    29994.530163         5.469837\n",
            "2021-09-23       32600.0    32838.552679      -238.552679\n",
            "2020-04-20       25600.0    25667.687423       -67.687423\n",
            "2023-01-20        8475.0     8221.464005       253.535995\n",
            "2022-07-22        7325.0     7323.266004         1.733996\n",
            "2023-05-19        9025.0     9129.548406      -104.548406\n",
            "2020-05-29       28950.0    28651.967727       298.032273\n",
            "2021-12-09        7300.0     7332.390955       -32.390955\n",
            "2020-07-02       29950.0    29587.533924       362.466076\n",
            "2021-03-05       33525.0    33009.514651       515.485349\n",
            "2019-12-10       31800.0    31662.270112       137.729888\n",
            "2019-11-21       31425.0    31331.879824        93.120176\n",
            "2021-12-21        7300.0     7325.227569       -25.227569\n",
            "2023-10-09        9050.0     8940.048567       109.951433\n",
            "2021-04-05       30675.0    31147.939414      -472.939414\n",
            "2021-04-21       31425.0    31803.727557      -378.727557\n",
            "2023-03-07        8450.0     8598.388720      -148.388720\n",
            "2023-03-17        8825.0     8509.969625       315.030375\n",
            "2023-09-08        9075.0     9120.292645       -45.292645\n",
            "2023-04-27        8925.0     9065.263908      -140.263908\n",
            "2021-02-09       34000.0    34343.202803      -343.202803\n",
            "2021-05-25       31875.0    31591.897531       283.102469\n",
            "2021-12-28        7325.0     7322.617953         2.382047\n",
            "2022-10-31        8800.0     8774.113850        25.886150\n",
            "2023-01-11        8150.0     8085.661978        64.338022\n",
            "2021-08-03       30800.0    31342.954928      -542.954928\n",
            "2023-09-14        9075.0     9015.436992        59.563008\n",
            "2022-03-25        7875.0     7875.933261        -0.933261\n",
            "2019-12-17       33300.0    33048.897560       251.102440\n",
            "2022-01-24        7800.0     7729.710180        70.289820\n",
            "2020-02-17       32975.0    33405.064288      -430.064288\n",
            "2023-11-09        8925.0     8883.706316        41.293684\n",
            "2020-10-12       28925.0    29423.578183      -498.578183\n",
            "2019-11-14       31575.0    31338.525969       236.474031\n",
            "2022-11-11        8600.0     8810.910096      -210.910096\n",
            "2022-01-11        7850.0     7722.529383       127.470617\n",
            "2021-06-02       32650.0    32863.230861      -213.230861\n",
            "2023-07-21        9350.0     9160.994610       189.005390\n",
            "2021-08-13       33000.0    32842.298765       157.701235\n",
            "2019-09-20       29675.0    29717.576067       -42.576067\n",
            "2019-09-09       30100.0    30422.708707      -322.708707\n",
            "2022-08-24        8150.0     8032.559984       117.440016\n",
            "2020-02-10       33950.0    33920.400646        29.599354\n",
            "2019-10-11       31075.0    30840.073767       234.926233\n",
            "2020-10-09       29500.0    29233.212428       266.787572\n",
            "2021-08-10       32100.0    31930.825886       169.174114\n",
            "2021-09-15       32925.0    32526.543103       398.456897\n",
            "2020-10-22       28950.0    28996.161090       -46.161090\n",
            "2020-12-01       31950.0    32239.281352      -289.281352\n",
            "2019-08-01       29400.0    30025.618758      -625.618758\n",
            "2020-10-01       28500.0    27537.388408       962.611592\n",
            "2023-08-11        9300.0     9320.913823       -20.913823\n",
            "2020-07-20       31000.0    30860.433455       139.566545\n",
            "2022-02-22        8050.0     8030.598419        19.401581\n",
            "2022-07-06        7125.0     7164.029665       -39.029665\n",
            "2021-10-12        7650.0     6995.186079       654.813921\n",
            "2023-11-29        8925.0     8972.756051       -47.756051\n",
            "2019-10-17       31500.0    31016.043106       483.956894\n",
            "2019-10-24       31100.0    30951.215022       148.784978\n",
            "2020-06-03       29500.0    28610.314812       889.685188\n",
            "2021-11-18        7475.0     7493.737081       -18.737081\n",
            "2019-12-16       33000.0    33592.321054      -592.321054\n",
            "2021-07-28       29800.0    29840.164381       -40.164381\n",
            "2023-03-24        8800.0     8693.523603       106.476397\n",
            "2020-09-29       27525.0    27713.471146      -188.471146\n",
            "2022-08-25        8175.0     8153.369776        21.630224\n",
            "2020-11-11       32400.0    31888.688074       511.311926\n",
            "2020-09-28       27850.0    27098.440135       751.559865\n",
            "2020-09-15       28150.0    28707.707702      -557.707702\n",
            "2021-12-29        7400.0     7346.217898        53.782102\n",
            "2023-08-04        9400.0     9228.405966       171.594034\n",
            "2020-11-18       33000.0    32948.610154        51.389846\n",
            "2019-10-29       31625.0    31383.098831       241.901169\n",
            "2020-09-04       31225.0    31576.126435      -351.126435\n",
            "2019-10-30       31375.0    31549.681599      -174.681599\n",
            "2020-04-03       28175.0    28299.165609      -124.165609\n",
            "2019-08-14       30075.0    29765.607050       309.392950\n",
            "2023-02-28        8475.0     8637.829404      -162.829404\n",
            "2021-01-04       34825.0    34762.706927        62.293073\n",
            "2023-01-19        8200.0     8252.892797       -52.892797\n",
            "2022-04-12        7700.0     7732.967848       -32.967848\n",
            "2021-12-20        7300.0     7354.046746       -54.046746\n",
            "2022-05-30        7600.0     7620.765765       -20.765765\n",
            "2023-11-22        8875.0     8944.584926       -69.584926\n",
            "2020-05-13       23825.0    23937.197288      -112.197288\n",
            "2020-12-16       34150.0    34000.002643       149.997357\n",
            "2023-04-17        9150.0     9212.100218       -62.100218\n",
            "2020-12-22       33825.0    33804.423655        20.576345\n",
            "2022-06-27        7250.0     7300.314111       -50.314111\n",
            "2022-04-13        7625.0     7719.937178       -94.937178\n",
            "2020-06-10       27500.0    28290.711663      -790.711663\n",
            "2020-08-13       31650.0    31776.198484      -126.198484\n",
            "2022-10-14        8275.0     8315.233142       -40.233142\n",
            "2019-07-31       30000.0    30793.556751      -793.556751\n",
            "2022-07-01        7300.0     7248.025800        51.974200\n",
            "2022-01-06        7700.0     7632.631143        67.368857\n",
            "2023-07-14        9150.0     9169.471510       -19.471510\n",
            "2022-10-20        8700.0     8896.167512      -196.167512\n",
            "2021-01-14       35475.0    35431.406472        43.593528\n",
            "2023-05-24        9150.0     9157.719532        -7.719532\n",
            "2021-10-11        7750.0    10591.543402     -2841.543402\n",
            "2022-11-23        9025.0     8998.965612        26.034388\n",
            "2023-02-27        8625.0     8634.423515        -9.423515\n",
            "2023-10-02        9075.0     9220.577118      -145.577118\n",
            "2021-03-01       33600.0    34931.966021     -1331.966021\n",
            "2023-08-14        9250.0     9315.694590       -65.694590\n",
            "2023-09-06        9125.0     9148.463771       -23.463771\n",
            "2021-07-14       30025.0    30512.240862      -487.240862\n",
            "2023-04-05        8825.0     8814.150353        10.849647\n",
            "2021-05-28       33000.0    32219.848747       780.151253\n",
            "2022-12-07        8700.0     8587.967666       112.032334\n",
            "2023-10-10        9075.0     9054.808033        20.191967\n",
            "2020-08-25       32475.0    32796.008548      -321.008548\n",
            "2023-07-07        9175.0     9046.200323       128.799677\n",
            "2020-10-05       28900.0    28719.198517       180.801483\n",
            "2020-09-08       29525.0    29213.994165       311.005835\n",
            "2023-03-28        8750.0     8844.265632       -94.265632\n",
            "2023-05-31        9100.0     9176.617485       -76.617485\n"
          ]
        }
      ]
    },
    {
      "cell_type": "markdown",
      "source": [
        "Grafik Perbedaan Nilai Aktual dan Prediksi"
      ],
      "metadata": {
        "id": "sYKU3QnDl6It"
      }
    },
    {
      "cell_type": "code",
      "source": [
        "# Ubah kolom tanggal menjadi tipe data datetime\n",
        "merged1_df['date'] = pd.to_datetime(merged1_df['date'])\n",
        "\n",
        "# Sorting dataframe berdasarkan tanggal (jika belum diurutkan)\n",
        "merged1_df = merged1_df.sort_values(by='date')\n",
        "\n",
        "# Plot Nilai Aktual dan Nilai Prediksi\n",
        "plt.figure(figsize=(10, 6))\n",
        "plt.plot(merged1_df['date'], merged1_df['Nilai Aktual'], marker='o', label='Nilai Aktual', linestyle='-', color='b')\n",
        "plt.plot(merged1_df['date'], merged1_df['Nilai Prediksi'], marker='o', label='Nilai Prediksi', linestyle='-', color='r')\n",
        "\n",
        "plt.title('Perbandingan Nilai Aktual dan Prediksi')\n",
        "plt.xlabel('Tanggal')\n",
        "plt.ylabel('Harga Saham')\n",
        "plt.legend()\n",
        "plt.grid(True)\n",
        "plt.show()\n"
      ],
      "metadata": {
        "colab": {
          "base_uri": "https://localhost:8080/",
          "height": 573
        },
        "id": "_0ZvcjwAjASX",
        "outputId": "3a5baa42-d8af-4249-f75a-7fc017182e9e"
      },
      "execution_count": null,
      "outputs": [
        {
          "output_type": "display_data",
          "data": {
            "text/plain": [
              "<Figure size 1000x600 with 1 Axes>"
            ],
            "image/png": "[encoded data removed]"
          },
          "metadata": {}
        }
      ]
    }
  ]
}